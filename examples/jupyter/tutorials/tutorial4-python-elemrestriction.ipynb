{
 "cells": [
  {
   "cell_type": "markdown",
   "metadata": {},
   "source": [
    "# libCEED for Python examples\n",
    "\n",
    "This is a tutorial to illustrate the main feautures of the Python interface for [libCEED](https://github.com/CEED/libCEED/), the low-level API library for efficient high-order discretization methods developed by the co-design [Center for Efficient Exascale Discretizations](https://ceed.exascaleproject.org/) (CEED) of the [Exascale Computing Project](https://www.exascaleproject.org/) (ECP).\n",
    "\n",
    "While libCEED's focus is on high-order finite/spectral element method implementations, the approach is mostly algebraic and thus applicable to other discretizations in factored form, as explained in the [user manual](https://libceed.readthedocs.io/) and [Doxygen documentation](https://codedocs.xyz/CEED/libCEED/)."
   ]
  },
  {
   "cell_type": "markdown",
   "metadata": {},
   "source": [
    "## Setting up libCEED for Python\n",
    "\n",
    "Clone or download libCEED by running"
   ]
  },
  {
   "cell_type": "code",
   "execution_count": null,
   "metadata": {},
   "outputs": [],
   "source": [
    "! git clone https://github.com/CEED/libCEED.git"
   ]
  },
  {
   "cell_type": "markdown",
   "metadata": {},
   "source": [
    "Then move to the libCEED folder"
   ]
  },
  {
   "cell_type": "code",
   "execution_count": null,
   "metadata": {},
   "outputs": [],
   "source": [
    "cd libCEED"
   ]
  },
  {
   "cell_type": "markdown",
   "metadata": {},
   "source": [
    "And compile the base library by running"
   ]
  },
  {
   "cell_type": "code",
   "execution_count": null,
   "metadata": {},
   "outputs": [],
   "source": [
    "! make"
   ]
  },
  {
   "cell_type": "markdown",
   "metadata": {},
   "source": [
    "Build libCEED for Python by running"
   ]
  },
  {
   "cell_type": "code",
   "execution_count": null,
   "metadata": {},
   "outputs": [],
   "source": [
    "python setup.py build install"
   ]
  },
  {
   "cell_type": "markdown",
   "metadata": {},
   "source": [
    "Or without superuser permissions"
   ]
  },
  {
   "cell_type": "code",
   "execution_count": null,
   "metadata": {},
   "outputs": [],
   "source": [
    "python setup.py build install --user"
   ]
  },
  {
   "cell_type": "markdown",
   "metadata": {},
   "source": [
    "## CeedElemRestriction\n",
    "\n",
    "Here we show some basic examples to illustrate the `CeedElemRestriction` class. In libCEED, a `CeedElemRestriction` groups the degrees of freedom (dofs) of the local vector according to the different elements they belong to (see [the API documentation](https://libceed.readthedocs.io/en/latest/libCEEDapi.html#finite-element-operator-decomposition)).\n",
    "\n",
    "Here we illustrate the simple creation and application of a `CeedElemRestriction`, with user provided dof indices"
   ]
  },
  {
   "cell_type": "code",
   "execution_count": 2,
   "metadata": {},
   "outputs": [
    {
     "name": "stdout",
     "output_type": "stream",
     "text": [
      "[10. 11. 11. 12. 12. 13.]\n"
     ]
    }
   ],
   "source": [
    "import libceed\n",
    "import numpy as np\n",
    "\n",
    "# in this 1D example, the dofs are indexed as\n",
    "# \n",
    "#  x --  x --  x --  x\n",
    "# 10 -- 11 -- 12 -- 13\n",
    "\n",
    "ceed = libceed.Ceed()\n",
    "\n",
    "ne = 3\n",
    "\n",
    "x = ceed.Vector(ne+1)\n",
    "a = np.arange(10, 10 + ne+1, dtype=\"float64\")\n",
    "x.set_array(a, cmode=libceed.USE_POINTER)\n",
    "\n",
    "ind = np.zeros(2*ne, dtype=\"int32\")\n",
    "for i in range(ne):\n",
    "  ind[2*i+0] = i\n",
    "  ind[2*i+1] = i+1\n",
    "    \n",
    "r = ceed.ElemRestriction(ne, 2, ne+1, 1, ind, cmode=libceed.USE_POINTER)\n",
    "\n",
    "y = ceed.Vector(2*ne)\n",
    "y.set_value(0)\n",
    "\n",
    "r.apply(x, y)\n",
    "\n",
    "y_array = y.get_array_read()\n",
    "print(y_array)\n",
    "y.restore_array_read()"
   ]
  },
  {
   "cell_type": "markdown",
   "metadata": {},
   "source": [
    "Note the repetition, in the output of the restriction, of the indices that are at the boundary between elements."
   ]
  },
  {
   "cell_type": "markdown",
   "metadata": {},
   "source": [
    "* In the following example, we illustrate the creation and use of a strided (identity) element restriction"
   ]
  },
  {
   "cell_type": "code",
   "execution_count": 5,
   "metadata": {},
   "outputs": [
    {
     "name": "stdout",
     "output_type": "stream",
     "text": [
      "[10. 11. 12. 13. 14. 15.]\n"
     ]
    }
   ],
   "source": [
    "# in this 1D example, the dofs are indexed as\n",
    "# \n",
    "#  x --  x --  x --  x --  x --  x\n",
    "# 10 -- 11 -- 12 -- 13 -- 14 -- 15\n",
    "\n",
    "ne = 3\n",
    "\n",
    "x = ceed.Vector(2*ne)\n",
    "a = np.arange(10, 10 + 2*ne, dtype=\"float64\")\n",
    "x.set_array(a, cmode=libceed.USE_POINTER)\n",
    "\n",
    "strides = np.array([1, 2, 2], dtype=\"int32\")\n",
    "\n",
    "r = ceed.StridedElemRestriction(ne, 2, 2*ne, 1, strides)\n",
    "\n",
    "y = ceed.Vector(2*ne)\n",
    "y.set_value(0)\n",
    "\n",
    "r.apply(x, y)\n",
    "\n",
    "y_array = y.get_array_read()\n",
    "print(y_array)\n",
    "y.restore_array_read()"
   ]
  },
  {
   "cell_type": "markdown",
   "metadata": {},
   "source": [
    "* In the following example, we illustrate the creation of a blocked element restriction (from an L-vector to an E-vector) and its transpose (inverse operation, from an E-vector to an L-vector)"
   ]
  },
  {
   "cell_type": "code",
   "execution_count": 3,
   "metadata": {},
   "outputs": [
    {
     "name": "stdout",
     "output_type": "stream",
     "text": [
      "CeedVector length 20\n",
      "  10.000000\n",
      "  11.000000\n",
      "  12.000000\n",
      "  13.000000\n",
      "  14.000000\n",
      "  11.000000\n",
      "  12.000000\n",
      "  13.000000\n",
      "  14.000000\n",
      "  15.000000\n",
      "  15.000000\n",
      "  16.000000\n",
      "  17.000000\n",
      "  17.000000\n",
      "  17.000000\n",
      "  16.000000\n",
      "  17.000000\n",
      "  18.000000\n",
      "  18.000000\n",
      "  18.000000\n",
      "\n",
      "CeedVector length 9\n",
      "  10.000000\n",
      "  22.000000\n",
      "  24.000000\n",
      "  26.000000\n",
      "  28.000000\n",
      "  30.000000\n",
      "  32.000000\n",
      "  34.000000\n",
      "  18.000000\n",
      "\n"
     ]
    }
   ],
   "source": [
    "# in this 1D example, the dofs are indexed as\n",
    "# \n",
    "#  x --  x --  x --  x --  x --  x --  x --  x --  x\n",
    "# 10 -- 11 -- 12 -- 13 -- 14 -- 15 -- 16 -- 17 -- 18\n",
    "\n",
    "ne = 8\n",
    "blksize = 5\n",
    "\n",
    "x = ceed.Vector(ne+1)\n",
    "a = np.arange(10, 10 + ne+1, dtype=\"float64\")\n",
    "x.set_array(a, cmode=libceed.USE_POINTER)\n",
    "\n",
    "ind = np.zeros(2*ne, dtype=\"int32\")\n",
    "for i in range(ne):\n",
    "  ind[2*i+0] = i\n",
    "  ind[2*i+1] = i+1\n",
    "\n",
    "r = ceed.BlockedElemRestriction(ne, 2, blksize, ne+1, 1, ind,\n",
    "                                cmode=libceed.USE_POINTER)\n",
    "\n",
    "y = ceed.Vector(2*blksize*2)\n",
    "y.set_value(0)\n",
    "\n",
    "r.apply(x, y)\n",
    "\n",
    "print(y)\n",
    "\n",
    "x.set_value(0)\n",
    "r.T.apply(y, x)\n",
    "\n",
    "print(x)"
   ]
  },
  {
   "cell_type": "markdown",
   "metadata": {},
   "source": [
    "* In the following example, we illustrate the creation and use of a blocked element restriction (from an L-vector to an E-vector) and its transpose (inverse operation, from an E-vector to an L-vector)"
   ]
  },
  {
   "cell_type": "code",
   "execution_count": 4,
   "metadata": {},
   "outputs": [
    {
     "name": "stdout",
     "output_type": "stream",
     "text": [
      "CeedVector length 10\n",
      "  15.000000\n",
      "  16.000000\n",
      "  17.000000\n",
      "  17.000000\n",
      "  17.000000\n",
      "  16.000000\n",
      "  17.000000\n",
      "  18.000000\n",
      "  18.000000\n",
      "  18.000000\n",
      "\n",
      "CeedVector length 9\n",
      "  0.000000\n",
      "  0.000000\n",
      "  0.000000\n",
      "  0.000000\n",
      "  0.000000\n",
      "  15.000000\n",
      "  32.000000\n",
      "  34.000000\n",
      "  18.000000\n",
      "\n"
     ]
    }
   ],
   "source": [
    "# in this 1D example, the dofs are indexed as\n",
    "# \n",
    "#  x --  x --  x --  x --  x --  x --  x --  x --  x\n",
    "# 10 -- 11 -- 12 -- 13 -- 14 -- 15 -- 16 -- 17 -- 18\n",
    "\n",
    "ne = 8\n",
    "blksize = 5\n",
    "\n",
    "x = ceed.Vector(ne+1)\n",
    "a = np.arange(10, 10 + ne+1, dtype=\"float64\")\n",
    "x.set_array(a, cmode=libceed.USE_POINTER)\n",
    "\n",
    "ind = np.zeros(2*ne, dtype=\"int32\")\n",
    "for i in range(ne):\n",
    "  ind[2*i+0] = i\n",
    "  ind[2*i+1] = i+1\n",
    "\n",
    "r = ceed.BlockedElemRestriction(ne, 2, blksize, ne+1, 1, ind,\n",
    "                                cmode=libceed.USE_POINTER)\n",
    "\n",
    "y = ceed.Vector(blksize*2)\n",
    "y.set_value(0)\n",
    "\n",
    "r.apply_block(1, x, y)\n",
    "\n",
    "print(y)\n",
    "\n",
    "x.set_value(0)\n",
    "r.T.apply_block(1, y, x)\n",
    "\n",
    "print(x)"
   ]
  },
  {
   "cell_type": "markdown",
   "metadata": {},
   "source": [
    "* In the following example, we illustrate how to extract the multiplicity of indices in an element restriction"
   ]
  },
  {
   "cell_type": "code",
   "execution_count": 7,
   "metadata": {},
   "outputs": [
    {
     "name": "stdout",
     "output_type": "stream",
     "text": [
      "[1. 1. 1. 2. 1. 1. 2. 1. 1. 1.]\n"
     ]
    }
   ],
   "source": [
    "# in this 1D example, there are four nodes per element\n",
    "# \n",
    "#  x -- o -- o -- x -- o -- o -- x -- o -- o -- x\n",
    "\n",
    "ne = 3\n",
    "\n",
    "ind = np.zeros(4*ne, dtype=\"int32\")\n",
    "\n",
    "for i in range(ne):\n",
    "  ind[4*i+0] = i*3+0\n",
    "  ind[4*i+1] = i*3+1\n",
    "  ind[4*i+2] = i*3+2\n",
    "  ind[4*i+3] = i*3+3\n",
    "\n",
    "r = ceed.ElemRestriction(ne, 4, 3*ne+1, 1, ind, cmode=libceed.USE_POINTER)\n",
    "\n",
    "mult = r.get_multiplicity()\n",
    "\n",
    "mult_array = mult.get_array_read()\n",
    "\n",
    "print(mult_array)\n",
    "\n",
    "mult.restore_array_read()"
   ]
  },
  {
   "cell_type": "markdown",
   "metadata": {},
   "source": [
    "Note that the nodes at the boundary between elements have multiplicty 2, while the internal nodes and the outer boundary nodes, have multiplicuty 1."
   ]
  },
  {
   "cell_type": "markdown",
   "metadata": {},
   "source": [
    "* In the following example, we illustrate the creation and view of a blocked strided (identity) element restriction"
   ]
  },
  {
   "cell_type": "code",
   "execution_count": 10,
   "metadata": {},
   "outputs": [
    {
     "name": "stdout",
     "output_type": "stream",
     "text": [
      "Blocked CeedElemRestriction from (4, 1) to 3 elements with 2 nodes each and strides [1, 2, 2]\n",
      "\n"
     ]
    }
   ],
   "source": [
    "# in this 1D example, there are three elements (four nodes in total) \n",
    "# \n",
    "#  x -- x -- x -- x\n",
    "\n",
    "ne = 3\n",
    "\n",
    "strides = np.array([1, 2, 2], dtype=\"int32\")\n",
    "\n",
    "r = ceed.BlockedStridedElemRestriction(ne, 2, 2, ne+1, 1, strides)\n",
    "\n",
    "print(r)"
   ]
  }
 ],
 "metadata": {
  "kernelspec": {
   "display_name": "Python 3",
   "language": "python",
   "name": "python3"
  },
  "language_info": {
   "codemirror_mode": {
    "name": "ipython",
    "version": 3
   },
   "file_extension": ".py",
   "mimetype": "text/x-python",
   "name": "python",
   "nbconvert_exporter": "python",
   "pygments_lexer": "ipython3",
   "version": "3.6.9"
  }
 },
 "nbformat": 4,
 "nbformat_minor": 2
}
