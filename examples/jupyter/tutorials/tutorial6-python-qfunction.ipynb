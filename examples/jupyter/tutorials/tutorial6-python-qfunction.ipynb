{
 "cells": [
  {
   "cell_type": "markdown",
   "metadata": {},
   "source": [
    "# libCEED for Python examples\n",
    "\n",
    "This is a tutorial to illustrate the main feautures of the Python interface for [libCEED](https://github.com/CEED/libCEED/), the low-level API library for efficient high-order discretization methods developed by the co-design [Center for Efficient Exascale Discretizations](https://ceed.exascaleproject.org/) (CEED) of the [Exascale Computing Project](https://www.exascaleproject.org/) (ECP).\n",
    "\n",
    "While libCEED's focus is on high-order finite/spectral element method implementations, the approach is mostly algebraic and thus applicable to other discretizations in factored form, as explained in the [user manual](https://libceed.readthedocs.io/) and [Doxygen documentation](https://codedocs.xyz/CEED/libCEED/)."
   ]
  },
  {
   "cell_type": "markdown",
   "metadata": {},
   "source": [
    "## Setting up libCEED for Python\n",
    "\n",
    "Clone or download libCEED by running"
   ]
  },
  {
   "cell_type": "code",
   "execution_count": null,
   "metadata": {},
   "outputs": [],
   "source": [
    "! git clone https://github.com/CEED/libCEED.git"
   ]
  },
  {
   "cell_type": "markdown",
   "metadata": {},
   "source": [
    "Then move to the libCEED folder"
   ]
  },
  {
   "cell_type": "code",
   "execution_count": null,
   "metadata": {},
   "outputs": [],
   "source": [
    "cd libCEED"
   ]
  },
  {
   "cell_type": "markdown",
   "metadata": {},
   "source": [
    "And compile the base library by running"
   ]
  },
  {
   "cell_type": "code",
   "execution_count": null,
   "metadata": {},
   "outputs": [],
   "source": [
    "! make"
   ]
  },
  {
   "cell_type": "markdown",
   "metadata": {},
   "source": [
    "Build libCEED for Python by running"
   ]
  },
  {
   "cell_type": "code",
   "execution_count": null,
   "metadata": {},
   "outputs": [],
   "source": [
    "python setup.py build install"
   ]
  },
  {
   "cell_type": "markdown",
   "metadata": {},
   "source": [
    "Or without superuser permissions"
   ]
  },
  {
   "cell_type": "code",
   "execution_count": null,
   "metadata": {},
   "outputs": [],
   "source": [
    "python setup.py build install --user"
   ]
  },
  {
   "cell_type": "markdown",
   "metadata": {},
   "source": [
    "## CeedQFunction\n",
    "\n",
    "Here we show some basic examples to illustrate the `CeedQFunction` class. In libCEED, QFunctions represent the spatial terms of the point-wise functions describing the physics at the quadrature points (see [the API documentation](https://libceed.readthedocs.io/en/latest/libCEEDapi.html#api-description))."
   ]
  },
  {
   "cell_type": "markdown",
   "metadata": {},
   "source": [
    "* In the following example, we create and evaluate a QFunction (for the mass operator in 1D) from the gallery of available built-in QFunctions in libCEED."
   ]
  },
  {
   "cell_type": "code",
   "execution_count": 13,
   "metadata": {},
   "outputs": [
    {
     "name": "stdout",
     "output_type": "stream",
     "text": [
      "[0.         1.17950854 1.33277801 1.63931695 2.4789671  3.43190337\n",
      " 3.2786339  0.        ]\n"
     ]
    }
   ],
   "source": [
    "import libceed\n",
    "import numpy as np\n",
    "\n",
    "ceed = libceed.Ceed()\n",
    "\n",
    "qf_setup = ceed.QFunctionByName(\"Mass1DBuild\")\n",
    "qf_mass = ceed.QFunctionByName(\"MassApply\")\n",
    "\n",
    "q = 8\n",
    "\n",
    "j_array = np.zeros(q, dtype=\"float64\")\n",
    "w_array = np.zeros(q, dtype=\"float64\")\n",
    "u_array = np.zeros(q, dtype=\"float64\")\n",
    "v_true  = np.zeros(q, dtype=\"float64\")\n",
    "for i in range(q):\n",
    "  x = 2.*i/(q-1) - 1\n",
    "  j_array[i] = 1\n",
    "  w_array[i] = 1 - x*x\n",
    "  u_array[i] = 2 + 3*x + 5*x*x\n",
    "  v_true[i]  = w_array[i] * u_array[i]\n",
    "\n",
    "j = ceed.Vector(q)\n",
    "j.set_array(j_array, cmode=libceed.USE_POINTER)\n",
    "w = ceed.Vector(q)\n",
    "w.set_array(w_array, cmode=libceed.USE_POINTER)\n",
    "u = ceed.Vector(q)\n",
    "u.set_array(u_array, cmode=libceed.USE_POINTER)\n",
    "v = ceed.Vector(q)\n",
    "v.set_value(0)\n",
    "qdata = ceed.Vector(q)\n",
    "qdata.set_value(0)\n",
    "\n",
    "inputs = [ j, w ]\n",
    "outputs = [ qdata ]\n",
    "qf_setup.apply(q, inputs, outputs)\n",
    "\n",
    "inputs = [ w, u ]\n",
    "outputs = [ v ]\n",
    "qf_mass.apply(q, inputs, outputs)\n",
    "\n",
    "v_array = v.get_array_read()\n",
    "\n",
    "print(v_array)\n",
    "\n",
    "v.restore_array_read()"
   ]
  },
  {
   "cell_type": "markdown",
   "metadata": {},
   "source": [
    "* In the following example, we create and evaluate a built-in identity QFunction."
   ]
  },
  {
   "cell_type": "code",
   "execution_count": 14,
   "metadata": {},
   "outputs": [
    {
     "name": "stdout",
     "output_type": "stream",
     "text": [
      "[ 0.  1.  4.  9. 16. 25. 36. 49.]\n"
     ]
    }
   ],
   "source": [
    "qf = ceed.IdentityQFunction(1, libceed.EVAL_INTERP, libceed.EVAL_INTERP)\n",
    "\n",
    "q = 8\n",
    "\n",
    "u_array = np.zeros(q, dtype=\"float64\")\n",
    "for i in range(q):\n",
    "  u_array[i] = i*i\n",
    "\n",
    "u = ceed.Vector(q)\n",
    "u.set_array(u_array, cmode=libceed.USE_POINTER)\n",
    "v = ceed.Vector(q)\n",
    "v.set_value(0)\n",
    "\n",
    "inputs = [ u ]\n",
    "outputs = [ v ]\n",
    "qf.apply(q, inputs, outputs)\n",
    "\n",
    "v_array = v.get_array_read()\n",
    "\n",
    "print(v_array)\n",
    "\n",
    "v.restore_array_read()"
   ]
  },
  {
   "cell_type": "markdown",
   "metadata": {},
   "source": [
    "* In the following example, we create and evaluate a built-in identity QFunction with size > 1."
   ]
  },
  {
   "cell_type": "code",
   "execution_count": 16,
   "metadata": {},
   "outputs": [
    {
     "name": "stdout",
     "output_type": "stream",
     "text": [
      "[  0.   1.   4.   9.  16.  25.  36.  49.  64.  81. 100. 121. 144. 169.\n",
      " 196. 225. 256. 289. 324. 361. 400. 441. 484. 529.]\n"
     ]
    }
   ],
   "source": [
    "size = 3\n",
    "\n",
    "qf = ceed.IdentityQFunction(size, libceed.EVAL_INTERP, libceed.EVAL_INTERP)\n",
    "\n",
    "q = 8\n",
    "\n",
    "u_array = np.zeros(q*size, dtype=\"float64\")\n",
    "for i in range(q*size):\n",
    "  u_array[i] = i*i\n",
    "\n",
    "u = ceed.Vector(q*size)\n",
    "u.set_array(u_array, cmode=libceed.USE_POINTER)\n",
    "v = ceed.Vector(q*size)\n",
    "v.set_value(0)\n",
    "\n",
    "inputs = [ u ]\n",
    "outputs = [ v ]\n",
    "qf.apply(q, inputs, outputs)\n",
    "\n",
    "v_array = v.get_array_read()\n",
    "\n",
    "print(v_array)\n",
    "\n",
    "v.restore_array_read()"
   ]
  },
  {
   "cell_type": "markdown",
   "metadata": {},
   "source": [
    "* In the following example, we create and view two QFunctions (for the setup and apply, respectively, of the mass operator in 1D) from the gallery of available built-in QFunctions in libCEED"
   ]
  },
  {
   "cell_type": "code",
   "execution_count": 17,
   "metadata": {},
   "outputs": [
    {
     "name": "stdout",
     "output_type": "stream",
     "text": [
      "Gallery CeedQFunction Mass1DBuild\n",
      "  2 Input Fields:\n",
      "    Input Field [0]:\n",
      "      Name: \"dx\"\n",
      "      Size: 1\n",
      "      EvalMode: \"gradient\"\n",
      "    Input Field [1]:\n",
      "      Name: \"weights\"\n",
      "      Size: 1\n",
      "      EvalMode: \"quadrature weights\"\n",
      "  1 Output Field:\n",
      "    Output Field [0]:\n",
      "      Name: \"qdata\"\n",
      "      Size: 1\n",
      "      EvalMode: \"none\"\n",
      "\n",
      "Gallery CeedQFunction MassApply\n",
      "  2 Input Fields:\n",
      "    Input Field [0]:\n",
      "      Name: \"u\"\n",
      "      Size: 1\n",
      "      EvalMode: \"interpolation\"\n",
      "    Input Field [1]:\n",
      "      Name: \"qdata\"\n",
      "      Size: 1\n",
      "      EvalMode: \"none\"\n",
      "  1 Output Field:\n",
      "    Output Field [0]:\n",
      "      Name: \"v\"\n",
      "      Size: 1\n",
      "      EvalMode: \"interpolation\"\n",
      "\n"
     ]
    }
   ],
   "source": [
    "qf_setup = ceed.QFunctionByName(\"Mass1DBuild\")\n",
    "qf_mass = ceed.QFunctionByName(\"MassApply\")\n",
    "\n",
    "print(qf_setup)\n",
    "print(qf_mass)\n"
   ]
  }
 ],
 "metadata": {
  "kernelspec": {
   "display_name": "Python 3",
   "language": "python",
   "name": "python3"
  },
  "language_info": {
   "codemirror_mode": {
    "name": "ipython",
    "version": 3
   },
   "file_extension": ".py",
   "mimetype": "text/x-python",
   "name": "python",
   "nbconvert_exporter": "python",
   "pygments_lexer": "ipython3",
   "version": "3.6.9"
  }
 },
 "nbformat": 4,
 "nbformat_minor": 2
}
