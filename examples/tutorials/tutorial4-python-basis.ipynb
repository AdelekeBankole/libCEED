{
 "cells": [
  {
   "cell_type": "markdown",
   "metadata": {},
   "source": [
    "# libCEED for Python examples\n",
    "\n",
    "This is a tutorial to illustrate the main feautures of the Python interface for [libCEED](https://github.com/CEED/libCEED/), the low-level API library for efficient high-order discretization methods developed by the co-design [Center for Efficient Exascale Discretizations](https://ceed.exascaleproject.org/) (CEED) of the [Exascale Computing Project](https://www.exascaleproject.org/) (ECP).\n",
    "\n",
    "While libCEED's focus is on high-order finite/spectral element method implementations, the approach is mostly algebraic and thus applicable to other discretizations in factored form, as explained in the [user manual](https://libceed.readthedocs.io/) and [Doxygen documentation](https://codedocs.xyz/CEED/libCEED/)."
   ]
  },
  {
   "cell_type": "markdown",
   "metadata": {},
   "source": [
    "## Setting up libCEED for Python\n",
    "\n",
    "Install libCEED for Python by running"
   ]
  },
  {
   "cell_type": "code",
   "execution_count": 1,
   "metadata": {},
   "outputs": [],
   "source": [
    "! python -m pip install libceed"
   ]
  },
  {
   "cell_type": "markdown",
   "metadata": {},
   "source": [
    "## CeedBasis\n",
    "\n",
    "Here we show some basic examples to illustrate the `CeedBasis` class. In libCEED, a `CeedBasis` defines the finite element basis and associated quadrature rule (see [the API documentation](https://libceed.readthedocs.io/en/latest/libCEEDapi.html#finite-element-operator-decomposition))."
   ]
  },
  {
   "cell_type": "markdown",
   "metadata": {},
   "source": [
    "First we declare some auxiliary functions needed in the following examples"
   ]
  },
  {
   "cell_type": "code",
   "execution_count": 2,
   "metadata": {},
   "outputs": [],
   "source": [
    "def eval(dim, x):\n",
    "  result, center = 1, 0.1\n",
    "  for d in range(dim):\n",
    "    result *= math.tanh(x[d] - center)\n",
    "    center += 0.1\n",
    "  return result\n",
    "\n",
    "def feval(x1, x2):\n",
    "  return x1*x1 + x2*x2 + x1*x2 + 1\n",
    "\n",
    "def dfeval(x1, x2):\n",
    "  return 2*x1 + x2"
   ]
  },
  {
   "cell_type": "markdown",
   "metadata": {},
   "source": [
    "* In the following example, we illustrate the creation and destruction of a H1Lagrange basis with two different quadrature rules (Gauss-Lobatto and Gauss, respectively) "
   ]
  },
  {
   "cell_type": "code",
   "execution_count": 3,
   "metadata": {},
   "outputs": [
    {
     "name": "stdout",
     "output_type": "stream",
     "text": [
      "CeedBasis: dim=1 P=4 Q=4\n",
      "      qref1d:\t -1.00000000\t -0.44721360\t  0.44721360\t  1.00000000\n",
      "   qweight1d:\t  0.16666667\t  0.83333333\t  0.83333333\t  0.16666667\n",
      "    interp1d[0]:\t  1.00000000\t  0.00000000\t  0.00000000\t  0.00000000\n",
      "    interp1d[1]:\t  0.00000000\t  1.00000000\t  0.00000000\t  0.00000000\n",
      "    interp1d[2]:\t  0.00000000\t  0.00000000\t  1.00000000\t  0.00000000\n",
      "    interp1d[3]:\t  0.00000000\t  0.00000000\t  0.00000000\t  1.00000000\n",
      "      grad1d[0]:\t -3.00000000\t  4.04508497\t -1.54508497\t  0.50000000\n",
      "      grad1d[1]:\t -0.80901699\t  0.00000000\t  1.11803399\t -0.30901699\n",
      "      grad1d[2]:\t  0.30901699\t -1.11803399\t  0.00000000\t  0.80901699\n",
      "      grad1d[3]:\t -0.50000000\t  1.54508497\t -4.04508497\t  3.00000000\n",
      "\n",
      "CeedBasis: dim=1 P=4 Q=4\n",
      "      qref1d:\t -0.86113631\t -0.33998104\t  0.33998104\t  0.86113631\n",
      "   qweight1d:\t  0.34785485\t  0.65214515\t  0.65214515\t  0.34785485\n",
      "    interp1d[0]:\t  0.62994317\t  0.47255875\t -0.14950343\t  0.04700152\n",
      "    interp1d[1]:\t -0.07069480\t  0.97297619\t  0.13253993\t -0.03482132\n",
      "    interp1d[2]:\t -0.03482132\t  0.13253993\t  0.97297619\t -0.07069480\n",
      "    interp1d[3]:\t  0.04700152\t -0.14950343\t  0.47255875\t  0.62994317\n",
      "      grad1d[0]:\t -2.34183742\t  2.78794489\t -0.63510411\t  0.18899664\n",
      "      grad1d[1]:\t -0.51670214\t -0.48795249\t  1.33790510\t -0.33325047\n",
      "      grad1d[2]:\t  0.33325047\t -1.33790510\t  0.48795249\t  0.51670214\n",
      "      grad1d[3]:\t -0.18899664\t  0.63510411\t -2.78794489\t  2.34183742\n",
      "\n"
     ]
    }
   ],
   "source": [
    "import libceed\n",
    "import numpy as np\n",
    "\n",
    "ceed = libceed.Ceed()\n",
    "\n",
    "b = ceed.BasisTensorH1Lagrange(1, 1, 4, 4, libceed.GAUSS_LOBATTO)\n",
    "print(b)\n",
    "del b\n",
    "\n",
    "b = ceed.BasisTensorH1Lagrange(1, 1, 4, 4, libceed.GAUSS)\n",
    "print(b)\n",
    "del b"
   ]
  },
  {
   "cell_type": "markdown",
   "metadata": {},
   "source": [
    "* In the following example, we illustrate how to get the number of nodes and number of quadrature points for a basis"
   ]
  },
  {
   "cell_type": "code",
   "execution_count": 4,
   "metadata": {},
   "outputs": [
    {
     "name": "stdout",
     "output_type": "stream",
     "text": [
      "p = 64\n",
      "q = 125\n"
     ]
    }
   ],
   "source": [
    "b = ceed.BasisTensorH1Lagrange( 3, 1, 4, 5, libceed.GAUSS_LOBATTO)\n",
    "\n",
    "p = libceed.Basis.get_num_nodes(b)\n",
    "print('p =', p)\n",
    "\n",
    "q = libceed.Basis.get_num_quadrature_points(b)\n",
    "print('q =', q)"
   ]
  },
  {
   "cell_type": "markdown",
   "metadata": {},
   "source": [
    "* In the following example, we demonstrate the application of an interpolatory basis in multiple dimensions"
   ]
  },
  {
   "cell_type": "code",
   "execution_count": 5,
   "metadata": {},
   "outputs": [
    {
     "name": "stdout",
     "output_type": "stream",
     "text": [
      "xq = [-0.86113631 -0.33998104  0.33998104  0.86113631]\n",
      "u = [-0.75605827 -0.40905546  0.23605296  0.64590748]\n",
      "xq = [-0.86113631 -0.86113631 -0.86113631 -0.86113631 -0.33998104 -0.33998104\n",
      " -0.33998104 -0.33998104  0.33998104  0.33998104  0.33998104  0.33998104\n",
      "  0.86113631  0.86113631  0.86113631  0.86113631 -0.86113631 -0.33998104\n",
      "  0.33998104  0.86113631 -0.86113631 -0.33998104  0.33998104  0.86113631\n",
      " -0.86113631 -0.33998104  0.33998104  0.86113631 -0.86113631 -0.33998104\n",
      "  0.33998104  0.86113631]\n",
      "u = [ 0.60441447  0.3677972  -0.10759824 -0.43761257  0.32701056  0.19899188\n",
      " -0.05821462 -0.23676457 -0.18870745 -0.11483191  0.03359382  0.13662934\n",
      " -0.5163568  -0.31421251  0.09192215  0.37385641]\n",
      "xq = [-0.86113631 -0.86113631 -0.86113631 -0.86113631 -0.86113631 -0.86113631\n",
      " -0.86113631 -0.86113631 -0.86113631 -0.86113631 -0.86113631 -0.86113631\n",
      " -0.86113631 -0.86113631 -0.86113631 -0.86113631 -0.33998104 -0.33998104\n",
      " -0.33998104 -0.33998104 -0.33998104 -0.33998104 -0.33998104 -0.33998104\n",
      " -0.33998104 -0.33998104 -0.33998104 -0.33998104 -0.33998104 -0.33998104\n",
      " -0.33998104 -0.33998104  0.33998104  0.33998104  0.33998104  0.33998104\n",
      "  0.33998104  0.33998104  0.33998104  0.33998104  0.33998104  0.33998104\n",
      "  0.33998104  0.33998104  0.33998104  0.33998104  0.33998104  0.33998104\n",
      "  0.86113631  0.86113631  0.86113631  0.86113631  0.86113631  0.86113631\n",
      "  0.86113631  0.86113631  0.86113631  0.86113631  0.86113631  0.86113631\n",
      "  0.86113631  0.86113631  0.86113631  0.86113631 -0.86113631 -0.86113631\n",
      " -0.86113631 -0.86113631 -0.33998104 -0.33998104 -0.33998104 -0.33998104\n",
      "  0.33998104  0.33998104  0.33998104  0.33998104  0.86113631  0.86113631\n",
      "  0.86113631  0.86113631 -0.86113631 -0.86113631 -0.86113631 -0.86113631\n",
      " -0.33998104 -0.33998104 -0.33998104 -0.33998104  0.33998104  0.33998104\n",
      "  0.33998104  0.33998104  0.86113631  0.86113631  0.86113631  0.86113631\n",
      " -0.86113631 -0.86113631 -0.86113631 -0.86113631 -0.33998104 -0.33998104\n",
      " -0.33998104 -0.33998104  0.33998104  0.33998104  0.33998104  0.33998104\n",
      "  0.86113631  0.86113631  0.86113631  0.86113631 -0.86113631 -0.86113631\n",
      " -0.86113631 -0.86113631 -0.33998104 -0.33998104 -0.33998104 -0.33998104\n",
      "  0.33998104  0.33998104  0.33998104  0.33998104  0.86113631  0.86113631\n",
      "  0.86113631  0.86113631 -0.86113631 -0.33998104  0.33998104  0.86113631\n",
      " -0.86113631 -0.33998104  0.33998104  0.86113631 -0.86113631 -0.33998104\n",
      "  0.33998104  0.86113631 -0.86113631 -0.33998104  0.33998104  0.86113631\n",
      " -0.86113631 -0.33998104  0.33998104  0.86113631 -0.86113631 -0.33998104\n",
      "  0.33998104  0.86113631 -0.86113631 -0.33998104  0.33998104  0.86113631\n",
      " -0.86113631 -0.33998104  0.33998104  0.86113631 -0.86113631 -0.33998104\n",
      "  0.33998104  0.86113631 -0.86113631 -0.33998104  0.33998104  0.86113631\n",
      " -0.86113631 -0.33998104  0.33998104  0.86113631 -0.86113631 -0.33998104\n",
      "  0.33998104  0.86113631 -0.86113631 -0.33998104  0.33998104  0.86113631\n",
      " -0.86113631 -0.33998104  0.33998104  0.86113631 -0.86113631 -0.33998104\n",
      "  0.33998104  0.86113631 -0.86113631 -0.33998104  0.33998104  0.86113631]\n",
      "u = [-0.5050729  -0.33673026  0.02751796  0.30461999 -0.30734605 -0.20490649\n",
      "  0.01674518  0.1853668   0.08991339  0.05994493 -0.00489876 -0.05422864\n",
      "  0.36568656  0.2438019  -0.01992375 -0.22055318 -0.2732631  -0.18218351\n",
      "  0.01488823  0.16481067 -0.16628557 -0.11086198  0.00905976  0.10029029\n",
      "  0.04864646  0.03243242 -0.00265041 -0.0293397   0.19784994  0.13190583\n",
      " -0.01077949 -0.11932742  0.15769149  0.10513234 -0.00859153 -0.09510702\n",
      "  0.09595814  0.06397494 -0.0052281  -0.05787435 -0.02807234 -0.01871572\n",
      "  0.00152947  0.01693101 -0.11417294 -0.07611868  0.0062205   0.06886008\n",
      "  0.43148838  0.28767174 -0.02350884 -0.26023963  0.26256853  0.17505349\n",
      " -0.01430556 -0.15836055 -0.07681383 -0.0512115   0.00418506  0.04632802\n",
      " -0.31240936 -0.20828219  0.01702104  0.18842059]\n"
     ]
    }
   ],
   "source": [
    "import math\n",
    "\n",
    "for dim in range(1, 4):\n",
    "  Q = 4\n",
    "  Qdim = Q**dim\n",
    "  Xdim = 2**dim\n",
    "  x = np.empty(Xdim*dim, dtype=\"float64\")\n",
    "  uq = np.empty(Qdim, dtype=\"float64\")\n",
    "\n",
    "  for d in range(dim):\n",
    "    for i in range(Xdim):\n",
    "      x[d*Xdim + i] = 1 if (i % (2**(dim-d))) // (2**(dim-d-1)) else -1\n",
    "\n",
    "  X = ceed.Vector(Xdim*dim)\n",
    "  X.set_array(x, cmode=libceed.USE_POINTER)\n",
    "  Xq = ceed.Vector(Qdim*dim)\n",
    "  Xq.set_value(0)\n",
    "  U = ceed.Vector(Qdim)\n",
    "  U.set_value(0)\n",
    "  Uq = ceed.Vector(Qdim)\n",
    "\n",
    "  bxl = ceed.BasisTensorH1Lagrange(dim, dim, 2, Q, libceed.GAUSS_LOBATTO)\n",
    "  bul = ceed.BasisTensorH1Lagrange(dim, 1, Q, Q, libceed.GAUSS_LOBATTO)\n",
    "\n",
    "  bxl.apply(1, libceed.EVAL_INTERP, X, Xq)\n",
    "\n",
    "  with Xq.array_read() as xq:\n",
    "    for i in range(Qdim):\n",
    "      xx = np.empty(dim, dtype=\"float64\")\n",
    "      for d in range(dim):\n",
    "        xx[d] = xq[d*Qdim + i]\n",
    "      uq[i] = eval(dim, xx)\n",
    "\n",
    "  Uq.set_array(uq, cmode=libceed.USE_POINTER)\n",
    "\n",
    "  # This operation is the identity because the quadrature is collocated\n",
    "  bul.T.apply(1, libceed.EVAL_INTERP, Uq, U)\n",
    "\n",
    "  bxg = ceed.BasisTensorH1Lagrange(dim, dim, 2, Q, libceed.GAUSS)\n",
    "  bug = ceed.BasisTensorH1Lagrange(dim, 1, Q, Q, libceed.GAUSS)\n",
    "\n",
    "  bxg.apply(1, libceed.EVAL_INTERP, X, Xq)\n",
    "  bug.apply(1, libceed.EVAL_INTERP, U, Uq)\n",
    "\n",
    "  with Xq.array_read() as xq, Uq.array_read() as u:\n",
    "    print('xq =', xq)\n",
    "    print('u =', u)\n"
   ]
  },
  {
   "cell_type": "markdown",
   "metadata": {},
   "source": [
    "* In the following example, we demonstrate the application of the gradient of the shape functions in multiple dimensions"
   ]
  },
  {
   "cell_type": "code",
   "execution_count": 6,
   "metadata": {},
   "outputs": [
    {
     "name": "stdout",
     "output_type": "stream",
     "text": [
      "1T * G * u - uT * (GT * 1) = 1.7763568394002505e-15\n",
      "1T * G * u - uT * (GT * 1) = 2.3092638912203256e-14\n",
      "1T * G * u - uT * (GT * 1) = 9.947598300641403e-14\n"
     ]
    }
   ],
   "source": [
    "for dim in range (1, 4):\n",
    "  P, Q = 8, 10\n",
    "  Pdim = P**dim\n",
    "  Qdim = Q**dim\n",
    "  Xdim = 2**dim\n",
    "  sum1 = sum2 = 0\n",
    "  x = np.empty(Xdim*dim, dtype=\"float64\")\n",
    "  u = np.empty(Pdim, dtype=\"float64\")\n",
    "\n",
    "  for d in range(dim):\n",
    "    for i in range(Xdim):\n",
    "      x[d*Xdim + i] = 1 if (i % (2**(dim-d))) // (2**(dim-d-1)) else -1\n",
    "\n",
    "  X = ceed.Vector(Xdim*dim)\n",
    "  X.set_array(x, cmode=libceed.USE_POINTER)\n",
    "  Xq = ceed.Vector(Pdim*dim)\n",
    "  Xq.set_value(0)\n",
    "  U = ceed.Vector(Pdim)\n",
    "  Uq = ceed.Vector(Qdim*dim)\n",
    "  Uq.set_value(0)\n",
    "  Ones = ceed.Vector(Qdim*dim)\n",
    "  Ones.set_value(1)\n",
    "  Gtposeones = ceed.Vector(Pdim)\n",
    "  Gtposeones.set_value(0)\n",
    "\n",
    "  # Get function values at quadrature points\n",
    "  bxl = ceed.BasisTensorH1Lagrange(dim, dim, 2, P, libceed.GAUSS_LOBATTO)\n",
    "  bxl.apply(1, libceed.EVAL_INTERP, X, Xq)\n",
    "\n",
    "  with Xq.array_read() as xq:\n",
    "    for i in range(Pdim):\n",
    "      xx = np.empty(dim, dtype=\"float64\")\n",
    "      for d in range(dim):\n",
    "        xx[d] = xq[d*Pdim + i]\n",
    "      u[i] = eval(dim, xx)\n",
    "\n",
    "  U.set_array(u, cmode=libceed.USE_POINTER)\n",
    "\n",
    "  # Calculate G u at quadrature points, G' * 1 at dofs\n",
    "  bug = ceed.BasisTensorH1Lagrange(dim, 1, P, Q, libceed.GAUSS)\n",
    "  bug.apply(1, libceed.EVAL_GRAD, U, Uq)\n",
    "  bug.T.apply(1, libceed.EVAL_GRAD, Ones, Gtposeones)\n",
    "\n",
    "  # Check if 1' * G * u = u' * (G' * 1)\n",
    "  with Gtposeones.array_read() as gtposeones, Uq.array_read() as uq:\n",
    "    for i in range(Pdim):\n",
    "      sum1 += gtposeones[i]*u[i]\n",
    "    for i in range(dim*Qdim):\n",
    "      sum2 += uq[i]\n",
    "\n",
    "  # Check that (1' * G * u - u' * (G' * 1)) is numerically zero\n",
    "  print('1T * G * u - uT * (GT * 1) =', math.fabs(sum1 - sum2))"
   ]
  },
  {
   "cell_type": "markdown",
   "metadata": {},
   "source": [
    "### Advanced topics"
   ]
  },
  {
   "cell_type": "markdown",
   "metadata": {},
   "source": [
    "* In the following example, we demonstrate the QR factorization of a basis matrix"
   ]
  },
  {
   "cell_type": "code",
   "execution_count": 7,
   "metadata": {},
   "outputs": [
    {
     "name": "stdout",
     "output_type": "stream",
     "text": [
      "qr =\n",
      " -2.00000000\n",
      " -3.00000000\n",
      " -2.00000000\n",
      "  0.33333333\n",
      " -5.00000000\n",
      "  2.00000000\n",
      "  0.33333333\n",
      "  0.40000000\n",
      " -4.00000000\n",
      "  0.33333333\n",
      " -0.20000000\n",
      " -0.50000000\n",
      "tau =\n",
      "  1.50000000\n",
      "  1.66666667\n",
      "  1.60000000\n"
     ]
    }
   ],
   "source": [
    "qr = np.array([1, -1, 4, 1, 4, -2, 1, 4, 2, 1, -1, 0], dtype=\"float64\")\n",
    "tau = np.empty(3, dtype=\"float64\")\n",
    "\n",
    "qr, tau = libceed.Basis.qr_factorization(ceed, qr, tau, 4, 3)\n",
    "\n",
    "print('qr =')\n",
    "for i in range(len(qr)):\n",
    "  if qr[i] <= 1E-14  and qr[i] >= -1E-14:\n",
    "    qr[i] = 0\n",
    "  print('%12.8f'%qr[i])\n",
    "\n",
    "print('tau =')\n",
    "for i in range(len(tau)):\n",
    "  if tau[i] <= 1E-14  and tau[i] >= -1E-14:\n",
    "    tau[i] = 0\n",
    "  print('%12.8f'%tau[i])"
   ]
  },
  {
   "cell_type": "markdown",
   "metadata": {},
   "source": [
    "* In the following example, we demonstrate the symmetric Schur decomposition of a basis matrix"
   ]
  },
  {
   "cell_type": "code",
   "execution_count": 8,
   "metadata": {},
   "outputs": [
    {
     "name": "stdout",
     "output_type": "stream",
     "text": [
      "Q =\n",
      "  0.69153918\n",
      " -0.70710678\n",
      "  0.14755868\n",
      "  0.00004347\n",
      " -0.14721060\n",
      "  0.00047835\n",
      "  0.69240821\n",
      " -0.70632831\n",
      "  0.14790715\n",
      "  0.00047882\n",
      " -0.69066919\n",
      " -0.70788369\n",
      " -0.69153892\n",
      " -0.70710646\n",
      " -0.14755804\n",
      " -0.00100064\n",
      "lambda =\n",
      "  0.13487964\n",
      "  0.23325338\n",
      "  0.86513545\n",
      "  1.16666509\n"
     ]
    }
   ],
   "source": [
    "A = np.array([0.19996678, 0.0745459, -0.07448852, 0.0332866,\n",
    "              0.0745459, 1., 0.16666509, -0.07448852,\n",
    "              -0.07448852, 0.16666509, 1., 0.0745459,\n",
    "              0.0332866, -0.07448852, 0.0745459, 0.19996678], dtype=\"float64\")\n",
    "\n",
    "lam = libceed.Basis.symmetric_schur_decomposition(ceed, A, 4)\n",
    "\n",
    "print(\"Q =\")\n",
    "for i in range(4):\n",
    "  for j in range(4):\n",
    "    if A[j+4*i] <= 1E-14 and A[j+4*i] >= -1E-14:\n",
    "       A[j+4*i] = 0\n",
    "    print(\"%12.8f\"%A[j+4*i])\n",
    "\n",
    "print(\"lambda =\")\n",
    "for i in range(4):\n",
    "  if lam[i] <= 1E-14 and lam[i] >= -1E-14:\n",
    "    lam[i] = 0\n",
    "  print(\"%12.8f\"%lam[i])"
   ]
  },
  {
   "cell_type": "markdown",
   "metadata": {},
   "source": [
    "* In the following example, we demonstrate the simultaneous diagonalization of a basis matrix"
   ]
  },
  {
   "cell_type": "code",
   "execution_count": 9,
   "metadata": {},
   "outputs": [
    {
     "name": "stdout",
     "output_type": "stream",
     "text": [
      "x =\n",
      "  1.68928908\n",
      "  0.84673819\n",
      "  0.51761264\n",
      "  1.36958123\n",
      " -0.64827487\n",
      "  0.54168848\n",
      "  0.61211881\n",
      " -0.23257073\n",
      "  0.64977850\n",
      " -0.54084624\n",
      "  0.61207450\n",
      " -0.23180307\n",
      " -1.68991495\n",
      " -0.84558672\n",
      "  0.51761799\n",
      "  1.36951706\n",
      "lambda =\n",
      " 42.52259582\n",
      "  2.46897852\n",
      "  0.00000001\n",
      " 15.01838167\n"
     ]
    }
   ],
   "source": [
    "M = np.array([0.19996678, 0.0745459, -0.07448852, 0.0332866,\n",
    "              0.0745459, 1., 0.16666509, -0.07448852,\n",
    "              -0.07448852, 0.16666509, 1., 0.0745459,\n",
    "              0.0332866, -0.07448852, 0.0745459, 0.19996678], dtype=\"float64\")\n",
    "K = np.array([3.03344425, -3.41501767, 0.49824435, -0.11667092,\n",
    "              -3.41501767, 5.83354662, -2.9167733, 0.49824435,\n",
    "              0.49824435, -2.9167733, 5.83354662, -3.41501767,\n",
    "              -0.11667092, 0.49824435, -3.41501767, 3.03344425], dtype=\"float64\")\n",
    "\n",
    "x, lam = libceed.Basis.simultaneous_diagonalization(ceed, K, M, 4)\n",
    "\n",
    "print(\"x =\")\n",
    "for i in range(4):\n",
    "  for j in range(4):\n",
    "    if x[j+4*i] <= 1E-14 and x[j+4*i] >= -1E-14:\n",
    "      x[j+4*i] = 0\n",
    "    print(\"%12.8f\"%x[j+4*i])\n",
    "\n",
    "print(\"lambda =\")\n",
    "for i in range(4):\n",
    "  if lam[i] <= 1E-14 and lam[i] >= -1E-14:\n",
    "    lam[i] = 0\n",
    "  print(\"%12.8f\"%lam[i])"
   ]
  }
 ],
 "metadata": {
  "kernelspec": {
   "display_name": "Python 3",
   "language": "python",
   "name": "python3"
  },
  "language_info": {
   "codemirror_mode": {
    "name": "ipython",
    "version": 3
   },
   "file_extension": ".py",
   "mimetype": "text/x-python",
   "name": "python",
   "nbconvert_exporter": "python",
   "pygments_lexer": "ipython3",
   "version": "3.7.6"
  }
 },
 "nbformat": 4,
 "nbformat_minor": 2
}
