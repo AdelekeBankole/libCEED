{
 "cells": [
  {
   "cell_type": "markdown",
   "metadata": {},
   "source": [
    "# libCEED tutorial\n",
    "\n",
    "This tutorial shows some examples of libCEED for efficient operator evaluations for the solutions of PDEs. For the purpose of separation of concerns, in these examples we use PETSc for mesh handling and time integration (when needed in the PDE)."
   ]
  },
  {
   "cell_type": "code",
   "execution_count": null,
   "metadata": {},
   "outputs": [],
   "source": [
    "# This is a Python code cell. \n",
    "# Every instruction in the cell that starts with ! is going to be interpreted and executed as a bash command.\n",
    "\n",
    "# let's build libCEED:\n",
    "\n",
    "! make -B"
   ]
  },
  {
   "cell_type": "code",
   "execution_count": null,
   "metadata": {},
   "outputs": [],
   "source": [
    "# Now let's build the examples that use PETSc, from the examples/petsc directory:\n",
    "\n",
    "! make -B PETSC_DIR=/srv/conda/envs/notebook -C examples/petsc"
   ]
  },
  {
   "cell_type": "code",
   "execution_count": null,
   "metadata": {},
   "outputs": [],
   "source": [
    "# Link the executables from the current directory to make it easy to run below\n",
    "\n",
    "! cp -sf examples/petsc/bpsraw .\n",
    "! cp -sf examples/petsc/bps .\n",
    "! cp -sf examples/petsc/bpssphere .\n",
    "! cp -sf examples/petsc/area .\n",
    "! cp -sf examples/petsc/multigrid ."
   ]
  },
  {
   "cell_type": "markdown",
   "metadata": {},
   "source": [
    "## BPs\n",
    "\n",
    "The Center for Efficient Exascale Discretizations (CEED), part of the Exascale Computing Project (ECP) uses Benchmark Problems (BPs) to test and compare the performance of high-order finite element implementations."
   ]
  },
  {
   "cell_type": "code",
   "execution_count": null,
   "metadata": {},
   "outputs": [],
   "source": [
    "# Let's run bpsraw. This example uses a structured rectangular grid.\n",
    "\n",
    "! ./bpsraw -ceed /cpu/self/ref/serial -problem bp3 -degree 1"
   ]
  },
  {
   "cell_type": "code",
   "execution_count": null,
   "metadata": {},
   "outputs": [],
   "source": [
    "# Let's run in parallel\n",
    "\n",
    "! mpiexec -n 2 ./bpsraw -ceed /cpu/self/ref/serial -problem bp3 -degree 1"
   ]
  },
  {
   "cell_type": "code",
   "execution_count": null,
   "metadata": {},
   "outputs": [],
   "source": [
    "# Let's run it with a blocked backend\n",
    "\n",
    "! mpiexec -n 2 ./bpsraw -ceed /cpu/self/ref/blocked -problem bp3 -degree 1"
   ]
  },
  {
   "cell_type": "markdown",
   "metadata": {},
   "source": [
    "### Running a suite of BPs\n",
    "We can the `bps`, using unstructured meshes, in batch, so that the `mpiexec` is invoked only once and noise is minimized."
   ]
  },
  {
   "cell_type": "code",
   "execution_count": null,
   "metadata": {},
   "outputs": [],
   "source": [
    "# Let's run bps. This example uses an unstructured grid\n",
    "\n",
    "! mpiexec -n 4 ./bps -problem bp3 -degree 2,4,6       \\\n",
    "    -ceed /cpu/self/opt/serial,/cpu/self/opt/blocked  \\\n",
    "    -local_nodes 600,5000 | tee bps.log"
   ]
  },
  {
   "cell_type": "code",
   "execution_count": null,
   "metadata": {},
   "outputs": [],
   "source": [
    "! ls"
   ]
  },
  {
   "cell_type": "markdown",
   "metadata": {},
   "source": [
    "### Plotting the BPs performance summary\n",
    "You can open a new notebook by clicking on the File -> Open menu. Navigate to the `benchmarks` directory and select the `postprocess_altair.ipynb` notebook. This will open a Jupyter Notebook that uses `altair`, a package for interactive visualization."
   ]
  },
  {
   "cell_type": "code",
   "execution_count": null,
   "metadata": {},
   "outputs": [],
   "source": []
  }
 ],
 "metadata": {
  "kernelspec": {
   "display_name": "Python 3",
   "language": "python",
   "name": "python3"
  },
  "language_info": {
   "codemirror_mode": {
    "name": "ipython",
    "version": 3
   },
   "file_extension": ".py",
   "mimetype": "text/x-python",
   "name": "python",
   "nbconvert_exporter": "python",
   "pygments_lexer": "ipython3",
   "version": "3.8.5"
  }
 },
 "nbformat": 4,
 "nbformat_minor": 4
}
